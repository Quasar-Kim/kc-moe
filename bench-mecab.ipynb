{
 "cells": [
  {
   "cell_type": "code",
   "execution_count": 9,
   "metadata": {},
   "outputs": [],
   "source": [
    "import dask.dataframe as dd\n",
    "import mecab"
   ]
  },
  {
   "cell_type": "code",
   "execution_count": 5,
   "metadata": {},
   "outputs": [
    {
     "data": {
      "text/html": [
       "<div>\n",
       "<style scoped>\n",
       "    .dataframe tbody tr th:only-of-type {\n",
       "        vertical-align: middle;\n",
       "    }\n",
       "\n",
       "    .dataframe tbody tr th {\n",
       "        vertical-align: top;\n",
       "    }\n",
       "\n",
       "    .dataframe thead th {\n",
       "        text-align: right;\n",
       "    }\n",
       "</style>\n",
       "<table border=\"1\" class=\"dataframe\">\n",
       "  <thead>\n",
       "    <tr style=\"text-align: right;\">\n",
       "      <th></th>\n",
       "      <th>text</th>\n",
       "    </tr>\n",
       "  </thead>\n",
       "  <tbody>\n",
       "    <tr>\n",
       "      <th>0</th>\n",
       "      <td>쟤네 군대감?안가지않냐?</td>\n",
       "    </tr>\n",
       "    <tr>\n",
       "      <th>1</th>\n",
       "      <td>웃기고 자빠졌네. 세금한푼도 안내는 것들이.</td>\n",
       "    </tr>\n",
       "    <tr>\n",
       "      <th>2</th>\n",
       "      <td>싫은데 내 세금은 어려운 우리나라사람을 도와야지 날강도 도둑놈들 돕는데 쓰지마라</td>\n",
       "    </tr>\n",
       "    <tr>\n",
       "      <th>3</th>\n",
       "      <td>소수의견이 소수의견인데는 이유가 있는거다. 일부 감성팔이 저능아들 외에는 대다수가 ...</td>\n",
       "    </tr>\n",
       "    <tr>\n",
       "      <th>4</th>\n",
       "      <td>그럼 한국인이 죽어가면 돈 없어도 그냥 치료해주나? MBC 답을 해봐. 돈없으면 나...</td>\n",
       "    </tr>\n",
       "  </tbody>\n",
       "</table>\n",
       "</div>"
      ],
      "text/plain": [
       "                                                text\n",
       "0                                      쟤네 군대감?안가지않냐?\n",
       "1                           웃기고 자빠졌네. 세금한푼도 안내는 것들이.\n",
       "2       싫은데 내 세금은 어려운 우리나라사람을 도와야지 날강도 도둑놈들 돕는데 쓰지마라\n",
       "3  소수의견이 소수의견인데는 이유가 있는거다. 일부 감성팔이 저능아들 외에는 대다수가 ...\n",
       "4  그럼 한국인이 죽어가면 돈 없어도 그냥 치료해주나? MBC 답을 해봐. 돈없으면 나..."
      ]
     },
     "execution_count": 5,
     "metadata": {},
     "output_type": "execute_result"
    }
   ],
   "source": [
    "df = dd.read_parquet('dataset/2020-q1')\n",
    "df.head()"
   ]
  },
  {
   "cell_type": "code",
   "execution_count": 10,
   "metadata": {},
   "outputs": [
    {
     "data": {
      "text/plain": [
       "[('청정', 'NNG'),\n",
       " ('수소', 'NNG'),\n",
       " ('생산', 'NNG'),\n",
       " ('의', 'JKG'),\n",
       " ('첫', 'MM'),\n",
       " ('걸음', 'NNG'),\n",
       " (',', 'SC'),\n",
       " ('전극', 'NNG'),\n",
       " ('소재', 'NNG')]"
      ]
     },
     "execution_count": 10,
     "metadata": {},
     "output_type": "execute_result"
    }
   ],
   "source": [
    "m = mecab.MeCab()\n",
    "m.pos('청정 수소 생산의 첫 걸음, 전극 소재')"
   ]
  }
 ],
 "metadata": {
  "kernelspec": {
   "display_name": "kc-moe-ODmC1ZDN-py3.10",
   "language": "python",
   "name": "python3"
  },
  "language_info": {
   "codemirror_mode": {
    "name": "ipython",
    "version": 3
   },
   "file_extension": ".py",
   "mimetype": "text/x-python",
   "name": "python",
   "nbconvert_exporter": "python",
   "pygments_lexer": "ipython3",
   "version": "3.10.6 (main, Nov 14 2022, 16:10:14) [GCC 11.3.0]"
  },
  "orig_nbformat": 4,
  "vscode": {
   "interpreter": {
    "hash": "3ad6d07eec162b4e27986db237d77a15964e4828a0f707927736da1cad933f2d"
   }
  }
 },
 "nbformat": 4,
 "nbformat_minor": 2
}
